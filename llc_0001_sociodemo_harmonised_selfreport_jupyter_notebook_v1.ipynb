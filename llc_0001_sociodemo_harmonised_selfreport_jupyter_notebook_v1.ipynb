{
 "cells": [
  {
   "cell_type": "markdown",
   "id": "d4109915",
   "metadata": {},
   "source": [
    "# Prerequisites"
   ]
  },
  {
   "cell_type": "markdown",
   "id": "14dad7be",
   "metadata": {},
   "source": [
    "setup Python module for running stata scripts"
   ]
  },
  {
   "cell_type": "code",
   "execution_count": null,
   "id": "ecdcda0c",
   "metadata": {},
   "outputs": [],
   "source": [
    "import stata_setup\n",
    "stata_setup.config('C:/Program Files/Stata17', 'se')"
   ]
  },
  {
   "cell_type": "markdown",
   "id": "c4cf59af",
   "metadata": {},
   "source": [
    "# Stata Harmonisation Scripts"
   ]
  },
  {
   "cell_type": "markdown",
   "id": "f74d3e00",
   "metadata": {},
   "source": [
    "The 'Prerequisite' script uses the odbc connection to connect to the database and pull database views for all of the self-report tables. The outputs are saved here: \"S:\\LLC_0001\\Self-Reported Harmonised Variables\\Datasets\\Tables\\Self-Report Tables\\SOURCE.dta\". 'SOURCE' gives the table names. If new versions of any tables come in, or additional tables are added, the script will need to be amended accordingly.  "
   ]
  },
  {
   "cell_type": "code",
   "execution_count": null,
   "id": "d6cf3094",
   "metadata": {
    "scrolled": true
   },
   "outputs": [],
   "source": [
    "%%stata\n",
    "do \"S:\\LLC_0001\\Self-Reported Harmonised Variables\\Syntax\\Prerequisite.do\""
   ]
  },
  {
   "cell_type": "code",
   "execution_count": null,
   "id": "1f294ee6",
   "metadata": {},
   "outputs": [],
   "source": [
    "%%stata\n",
    "do \"S:\\LLC_0001\\Self-Reported Harmonised Variables\\Syntax\\Age.do\""
   ]
  },
  {
   "cell_type": "code",
   "execution_count": null,
   "id": "6e829208",
   "metadata": {},
   "outputs": [],
   "source": [
    "%%stata\n",
    "do \"S:\\LLC_0001\\Self-Reported Harmonised Variables\\Syntax\\Sex&Gender.do\""
   ]
  },
  {
   "cell_type": "code",
   "execution_count": null,
   "id": "03a9c13e",
   "metadata": {},
   "outputs": [],
   "source": [
    "%%stata\n",
    "do \"S:\\LLC_0001\\Self-Reported Harmonised Variables\\Syntax\\Ethnicity.do\""
   ]
  },
  {
   "cell_type": "code",
   "execution_count": null,
   "id": "90ee1623",
   "metadata": {},
   "outputs": [],
   "source": [
    "%%stata\n",
    "do \"S:\\LLC_0001\\Self-Reported Harmonised Variables\\Syntax\\Full_Harmonised_Dataset.do\""
   ]
  },
  {
   "cell_type": "markdown",
   "id": "e6d15a57",
   "metadata": {},
   "source": [
    "# Return Full Harmonised Dataset to Database\n",
    "\n",
    "Run process_returned_data.py script (located in LLC systems/programs). When prompted select the dataset saved here: S:\\LLC_0001\\Self-Reported Harmonised Variables\\Datasets\\llc_0001_full_harmonised. Refer to example table names in the RETURNED schema (sociodemo_harmonised_selfreport_v...) and use naming convention to increment the version and add today's date."
   ]
  },
  {
   "cell_type": "markdown",
   "id": "cfd11cc7",
   "metadata": {},
   "source": [
    "# Optional Script to Add Participant Base"
   ]
  },
  {
   "cell_type": "markdown",
   "id": "8044f973",
   "metadata": {},
   "source": [
    "Manual Input: Need to update the Core Denominator File for new quarter "
   ]
  },
  {
   "cell_type": "code",
   "execution_count": null,
   "id": "9203491e",
   "metadata": {},
   "outputs": [],
   "source": [
    "%%stata\n",
    "do \"S:\\LLC_0001\\Self-Reported Harmonised Variables\\Syntax\\OPTIONAL_Add Participant Base.do\""
   ]
  }
 ],
 "metadata": {
  "kernelspec": {
   "display_name": "Python 3",
   "language": "python",
   "name": "python3"
  },
  "language_info": {
   "codemirror_mode": {
    "name": "ipython",
    "version": 3
   },
   "file_extension": ".py",
   "mimetype": "text/x-python",
   "name": "python",
   "nbconvert_exporter": "python",
   "pygments_lexer": "ipython3",
   "version": "3.8.5"
  }
 },
 "nbformat": 4,
 "nbformat_minor": 5
}
